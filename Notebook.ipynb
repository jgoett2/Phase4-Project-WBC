{
 "cells": [
  {
   "cell_type": "markdown",
   "metadata": {},
   "source": [
    "## White Blood Cell Classification"
   ]
  },
  {
   "cell_type": "markdown",
   "metadata": {},
   "source": [
    "### Overview"
   ]
  },
  {
   "cell_type": "markdown",
   "metadata": {},
   "source": [
    "Frequently medical tests need to count the number and type of white blood cells present in a blood sample.  It would be advantageous to build a computer algorithm that could identify the type of white blood cell from an image.  This project will look to write a computer algorithm to identify the cell type. \n",
    "\n",
    "White bloods cells can be classified as one of the following:  \n",
    "\n",
    "<table>\n",
    "  <tr>\n",
    "    <th>Family:</th>\n",
    "    <th colspan=\"3\">Granulocyte</th>\n",
    "    <th rowspan=\"2\">Lymphocyte</th>\n",
    "    <th rowspan=\"2\">Monocyte</th>\n",
    "  </tr>\n",
    "  <tr>\n",
    "    <th>Type:</th> \n",
    "    <th>Basophil</th>\n",
    "    <th>Eosinophil</th>\n",
    "    <th>Neutrophil</th>\n",
    "  </tr>\n",
    "  <tr>\n",
    "    <td></td>\n",
    "    <td><img src=\"Presentation/images/besophil.jpg\" width=200px></td>\n",
    "    <td><img src=\"Presentation/images/eosinophil.jpg\" width=200px></td>\n",
    "    <td><img src=\"Presentation/images/neutrophil.jpg\" width=200px></td>\n",
    "    <td><img src=\"Presentation/images/lymphocyte.jpg\" width=200px></td>\n",
    "    <td><img src=\"Presentation/images/monocyte.jpg\" width=200px></td>\n",
    "  </tr>\n",
    "  <tr>\n",
    "    <td></td>\n",
    "    <td>Nucleus divided into 2-5 segments.</td>\n",
    "    <td>Nucleus divided into 2 segments.</td>\n",
    "    <td>Nucleus divided into 2-5 segments.</td>\n",
    "    <td>Nucleus large, round or oval.</td>\n",
    "    <td>Nucleus single segment, <p>shaped as kidney bean.</td>\n",
    "  </tr>\n",
    "</table>\n"
   ]
  },
  {
   "cell_type": "markdown",
   "metadata": {},
   "source": [
    "### Business Problem"
   ]
  },
  {
   "cell_type": "markdown",
   "metadata": {},
   "source": [
    "### Data Understanding"
   ]
  },
  {
   "cell_type": "markdown",
   "metadata": {},
   "source": [
    "### Data Preparation"
   ]
  },
  {
   "cell_type": "markdown",
   "metadata": {},
   "source": [
    "### Analysis"
   ]
  },
  {
   "cell_type": "markdown",
   "metadata": {},
   "source": [
    "### Conclusions"
   ]
  },
  {
   "cell_type": "markdown",
   "metadata": {},
   "source": [
    "#### Next Steps"
   ]
  },
  {
   "cell_type": "markdown",
   "metadata": {},
   "source": []
  }
 ],
 "metadata": {
  "language_info": {
   "name": "python"
  }
 },
 "nbformat": 4,
 "nbformat_minor": 2
}
