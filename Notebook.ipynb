{
 "cells": [
  {
   "cell_type": "markdown",
   "metadata": {},
   "source": [
    "## White Blood Cell Classification"
   ]
  },
  {
   "cell_type": "markdown",
   "metadata": {},
   "source": [
    "### Overview"
   ]
  },
  {
   "cell_type": "markdown",
   "metadata": {},
   "source": [
    "Frequently medical tests need to count the number and type of white blood cells present in a blood sample.  It would be advantageous to build a computer algorithm that could identify the type of white blood cell from an image.  This project will look to write a computer algorithm to identify the cell type. \n",
    "\n",
    "White bloods cells can be classified as one of the following:  \n",
    "\n",
    "<table>\n",
    "  <tr>\n",
    "    <th>Family:</th>\n",
    "    <th colspan=\"3\">Granulocyte</th>\n",
    "    <th>Lymphocyte</th>\n",
    "    <th>Monocyte</th>\n",
    "  </tr>\n",
    "  <tr>\n",
    "    <th>Subtype:</th> \n",
    "    <th>Basophil</th>\n",
    "    <th>Eosinophil</th>\n",
    "    <th>Neutrophil</th>\n",
    "    <th></th>\n",
    "    <th></th>\n",
    "  </tr>\n",
    "  <tr>\n",
    "    <td></td>\n",
    "    <td><img src=\"Presentation/images/besophil.jpg\" width=200px></td>\n",
    "    <td><img src=\"Presentation/images/eosinophil.jpg\" width=200px></td>\n",
    "    <td><img src=\"Presentation/images/neutrophil.jpg\" width=200px></td>\n",
    "    <td><img src=\"Presentation/images/lymphocyte.jpg\" width=200px></td>\n",
    "    <td><img src=\"Presentation/images/monocyte.jpg\" width=200px></td>\n",
    "  </tr>\n",
    "  <tr>\n",
    "    <td></td>\n",
    "    <td>Nucleus divided into 2-5 segments.</td>\n",
    "    <td>Nucleus divided into 2 segments.</td>\n",
    "    <td>Nucleus divided into 2-5 segments.</td>\n",
    "    <td>Nucleus large, round or oval.</td>\n",
    "    <td>Nucleus single segment, <p>shaped as kidney bean.</td>\n",
    "  </tr>\n",
    "</table>\n"
   ]
  },
  {
   "cell_type": "markdown",
   "metadata": {},
   "source": [
    "### Business Problem"
   ]
  },
  {
   "cell_type": "markdown",
   "metadata": {},
   "source": [
    "Does a **pretrained convolutional layer** with a **neural net** improve the classification of white blood cell types over **manual feature extraction** with a **decision tree**?"
   ]
  },
  {
   "cell_type": "markdown",
   "metadata": {},
   "source": [
    "### Results\n",
    "\n",
    "The neural net offers a mixed improvement over the manual feature extraction.  Both have roughly the same F1 scores, but the neural net is successfully able to classify images by more specific type.  The classification has more meaning as a result.  \n",
    "\n",
    "When using **manual feature extraction** with a **decision tree**, the overall **F1 score** was **87%**.  The two smaller classes, lymphocytes and monocytes had an F1 average of 48%.\n",
    "\n",
    "When using the **pretrained convolutional layer** with a **neural net**, the overall **F1 score** is **78%**.  The two smaller classes, lymphocytes and monocytes have an F1 average of 60%.\n",
    "\n",
    "#### **Classification Report**: Pretrained Convolution Layer + Neural Net  \n",
    "<img src=\"Presentation/images/classification_report_cnn.png\">  \n",
    "\n",
    "#### **Confusion Matrix**: Pretrained Convolution Layer + Neural Net   \n",
    "<img src=\"Presentation/images/confusion_matrix_CNN.png\" width = 600px>"
   ]
  },
  {
   "cell_type": "markdown",
   "metadata": {},
   "source": [
    "### Data Understanding"
   ]
  },
  {
   "cell_type": "markdown",
   "metadata": {},
   "source": [
    "The data set consists of 1056 photos of blood samples.  The white blood cells are centered, and have a dark purple nucleus (due to staining) surrounded by a lighter purple cytoplasm.  The red blood cells appear small and gray.  \n",
    "\n",
    "The distribution of whiteblood cell types are:\n",
    "- **Basophil**: 213 images  \n",
    "- **Eosinophil**: 745 images\n",
    "- **Neutrophil**: 6232 images\n",
    "- **Lymphocyte**: 2428 images\n",
    "- **Monocyte**: 562 images\n"
   ]
  },
  {
   "cell_type": "markdown",
   "metadata": {
    "vscode": {
     "languageId": "plaintext"
    }
   },
   "source": [
    "### Data Preparation\n",
    "Load the images into training and validation sets.  Shift and flip images to augment the data set with additional images."
   ]
  },
  {
   "cell_type": "code",
   "execution_count": null,
   "metadata": {},
   "outputs": [],
   "source": [
    "import numpy as np\n",
    "import pandas as pandas\n",
    "\n",
    "import cv2 as cv\n",
    "import matplotlib.pyplot as plt\n",
    "import seaborn as sns\n",
    "\n",
    "from tensorflow import keras\n",
    "\n",
    "from tensorflow.keras.preprocessing import image_dataset_from_directory\n",
    "from keras.preprocessing.image import ImageDataGenerator\n",
    "from tensorflow.keras import layers\n",
    "from tensorflow.keras import models\n",
    "\n",
    "from tensorflow.keras.applications.vgg16 import VGG16\n",
    "from tensorflow.keras import backend as K\n",
    "from sklearn.metrics import confusion_matrix, classification_report"
   ]
  },
  {
   "cell_type": "code",
   "execution_count": 15,
   "metadata": {},
   "outputs": [
    {
     "name": "stdout",
     "output_type": "stream",
     "text": [
      "Found 8142 images belonging to 5 classes.\n",
      "Found 2033 images belonging to 5 classes.\n"
     ]
    }
   ],
   "source": [
    "IMAGE_SIZE = 224\n",
    "BATCH_SIZE = 32\n",
    "\n",
    "TRAIN_PATH = \"Data/Kaggle/Train\"\n",
    "\n",
    "data_gen = ImageDataGenerator(rescale=1./255,\n",
    "    width_shift_range=0.05,\n",
    "    height_shift_range=0.05,\n",
    "    horizontal_flip=True,\n",
    "    vertical_flip=True,\n",
    "    validation_split=0.2)\n",
    "\n",
    "\n",
    "train_gen = data_gen.flow_from_directory(directory = TRAIN_PATH,subset='training',batch_size = BATCH_SIZE,shuffle = True,class_mode = 'categorical',target_size = (IMAGE_SIZE, IMAGE_SIZE))\n",
    "valid_gen = data_gen.flow_from_directory(directory = TRAIN_PATH,subset='validation',batch_size = BATCH_SIZE,shuffle = False,class_mode = 'categorical',target_size = (IMAGE_SIZE, IMAGE_SIZE))"
   ]
  },
  {
   "cell_type": "markdown",
   "metadata": {},
   "source": [
    "### Analysis"
   ]
  },
  {
   "cell_type": "markdown",
   "metadata": {},
   "source": [
    "Construct a convolutional neural net, using the VGG16 convolution layers attached to two additional layers of nodes.  The VGG16 layers will be frozen, so only the additional layers will be trained on the data."
   ]
  },
  {
   "cell_type": "code",
   "execution_count": 16,
   "metadata": {},
   "outputs": [
    {
     "name": "stdout",
     "output_type": "stream",
     "text": [
      "0.0\n",
      "14714688\n"
     ]
    }
   ],
   "source": [
    "vgg_model_notop = VGG16(input_shape=(224, 224, 3), include_top=False);\n",
    "\n",
    "vgg_model_notop.trainable = False\n",
    "trainable_count = np.sum([K.count_params(w) for w in vgg_model_notop.trainable_weights])\n",
    "untrainable_count = np.sum([K.count_params(w) for w in vgg_model_notop.non_trainable_weights])\n",
    "\n",
    "print(trainable_count)\n",
    "print(untrainable_count)"
   ]
  },
  {
   "cell_type": "code",
   "execution_count": 17,
   "metadata": {},
   "outputs": [],
   "source": [
    "specific_model = models.Sequential()\n",
    "specific_model.add(vgg_model_notop)\n",
    "specific_model.add(layers.GlobalAveragePooling2D())\n",
    "specific_model.add(layers.Dense(32, activation = 'relu'))\n",
    "specific_model.add(layers.Dropout(0.2))\n",
    "specific_model.add(layers.Dense(5, activation = 'softmax'))\n",
    "\n",
    "adam = keras.optimizers.Adam()\n",
    "\n",
    "specific_model.compile(loss='categorical_crossentropy', metrics=['accuracy'], optimizer=adam)"
   ]
  },
  {
   "cell_type": "code",
   "execution_count": null,
   "metadata": {},
   "outputs": [
    {
     "name": "stdout",
     "output_type": "stream",
     "text": [
      "Epoch 1/10\n"
     ]
    },
    {
     "name": "stderr",
     "output_type": "stream",
     "text": [
      "2024-11-15 14:21:41.215536: W tensorflow/core/platform/profile_utils/cpu_utils.cc:128] Failed to get CPU frequency: 0 Hz\n",
      "2024-11-15 14:21:41.440773: I tensorflow/core/grappler/optimizers/custom_graph_optimizer_registry.cc:113] Plugin optimizer for device_type GPU is enabled.\n"
     ]
    },
    {
     "name": "stdout",
     "output_type": "stream",
     "text": [
      "255/255 [==============================] - ETA: 0s - loss: 0.9442 - accuracy: 0.6737"
     ]
    },
    {
     "name": "stderr",
     "output_type": "stream",
     "text": [
      "2024-11-15 14:24:14.947970: I tensorflow/core/grappler/optimizers/custom_graph_optimizer_registry.cc:113] Plugin optimizer for device_type GPU is enabled.\n"
     ]
    },
    {
     "name": "stdout",
     "output_type": "stream",
     "text": [
      "255/255 [==============================] - 198s 774ms/step - loss: 0.9442 - accuracy: 0.6737 - val_loss: 0.8458 - val_accuracy: 0.7132\n",
      "Epoch 2/10\n",
      "255/255 [==============================] - 226s 887ms/step - loss: 0.7134 - accuracy: 0.7638 - val_loss: 0.7729 - val_accuracy: 0.7516\n",
      "Epoch 3/10\n",
      "255/255 [==============================] - 235s 920ms/step - loss: 0.5973 - accuracy: 0.7985 - val_loss: 0.7285 - val_accuracy: 0.7639\n",
      "Epoch 4/10\n",
      "255/255 [==============================] - 233s 913ms/step - loss: 0.5395 - accuracy: 0.8128 - val_loss: 0.6932 - val_accuracy: 0.7703\n",
      "Epoch 5/10\n",
      "255/255 [==============================] - 243s 952ms/step - loss: 0.4921 - accuracy: 0.8298 - val_loss: 0.6794 - val_accuracy: 0.7644\n",
      "Epoch 6/10\n",
      "255/255 [==============================] - ETA: 0s - loss: 0.4683 - accuracy: 0.8358"
     ]
    }
   ],
   "source": [
    "history = specific_model.fit(train_gen, validation_data=valid_gen, epochs=10)"
   ]
  },
  {
   "cell_type": "markdown",
   "metadata": {},
   "source": [
    "### Visualizations"
   ]
  },
  {
   "cell_type": "markdown",
   "metadata": {},
   "source": [
    "Plot model accuracy and loss vs. training time."
   ]
  },
  {
   "cell_type": "code",
   "execution_count": null,
   "metadata": {},
   "outputs": [
    {
     "ename": "NameError",
     "evalue": "name 'history' is not defined",
     "output_type": "error",
     "traceback": [
      "\u001b[0;31m---------------------------------------------------------------------------\u001b[0m",
      "\u001b[0;31mNameError\u001b[0m                                 Traceback (most recent call last)",
      "Cell \u001b[0;32mIn[21], line 2\u001b[0m\n\u001b[1;32m      1\u001b[0m fig, ax \u001b[38;5;241m=\u001b[39m plt\u001b[38;5;241m.\u001b[39msubplots(\u001b[38;5;241m2\u001b[39m,\u001b[38;5;241m1\u001b[39m, figsize\u001b[38;5;241m=\u001b[39m(\u001b[38;5;241m9\u001b[39m,\u001b[38;5;241m12\u001b[39m))\n\u001b[0;32m----> 2\u001b[0m ax[\u001b[38;5;241m0\u001b[39m]\u001b[38;5;241m.\u001b[39mplot(\u001b[43mhistory\u001b[49m\u001b[38;5;241m.\u001b[39mhistory[\u001b[38;5;124m\"\u001b[39m\u001b[38;5;124maccuracy\u001b[39m\u001b[38;5;124m\"\u001b[39m], label\u001b[38;5;241m=\u001b[39m\u001b[38;5;124m\"\u001b[39m\u001b[38;5;124mtrain\u001b[39m\u001b[38;5;124m\"\u001b[39m)\n\u001b[1;32m      3\u001b[0m ax[\u001b[38;5;241m0\u001b[39m]\u001b[38;5;241m.\u001b[39mplot(history\u001b[38;5;241m.\u001b[39mhistory[\u001b[38;5;124m\"\u001b[39m\u001b[38;5;124mval_accuracy\u001b[39m\u001b[38;5;124m\"\u001b[39m], label\u001b[38;5;241m=\u001b[39m\u001b[38;5;124m\"\u001b[39m\u001b[38;5;124mvalidation\u001b[39m\u001b[38;5;124m\"\u001b[39m)\n\u001b[1;32m      4\u001b[0m ax[\u001b[38;5;241m0\u001b[39m]\u001b[38;5;241m.\u001b[39mset_ylim(\u001b[38;5;241m0\u001b[39m,\u001b[38;5;241m1\u001b[39m)\n",
      "\u001b[0;31mNameError\u001b[0m: name 'history' is not defined"
     ]
    },
    {
     "data": {
      "image/png": "[encoded data removed]",
      "text/plain": [
       "<Figure size 900x1200 with 2 Axes>"
      ]
     },
     "metadata": {},
     "output_type": "display_data"
    }
   ],
   "source": [
    "fig, ax = plt.subplots(2,1, figsize=(9,12))\n",
    "ax[0].plot(history.history[\"accuracy\"], label=\"train\")\n",
    "ax[0].plot(history.history[\"val_accuracy\"], label=\"validation\")\n",
    "ax[0].set_ylim(0,1)\n",
    "ax[0].set_xlabel(\"Epochs\")\n",
    "ax[0].set_ylabel(\"Accuracy\")\n",
    "ax[0].legend()\n",
    "ax[0].set_title(\"CNN Training with VGG16 Convolution (Larger Dataset)\")\n",
    "\n",
    "ax[1].plot(history.history[\"loss\"], label=\"train\")\n",
    "ax[1].plot(history.history[\"val_loss\"], label=\"validation\")\n",
    "ax[1].set_ylim(0,2)\n",
    "ax[1].set_xlabel(\"Epochs\")\n",
    "ax[1].set_ylabel(\"Loss\")\n",
    "ax[1].legend()\n",
    "\n",
    "fig.savefig(\"Presentation/images/accuracy_larger_data.png\")"
   ]
  },
  {
   "cell_type": "code",
   "execution_count": null,
   "metadata": {},
   "outputs": [],
   "source": [
    "predicted_classes = np.argmax(specific_model.predict(valid_gen), axis=1)\n",
    "\n",
    "confusionmatrix = confusion_matrix(valid_gen.classes, predicted_classes)\n",
    "report = classification_report(valid_gen.classes, predicted_classes)\n",
    "\n",
    "# Create a figure and axes\n",
    "fig, ax = plt.subplots()\n",
    "\n",
    "# Display the report as text\n",
    "ax.text(0, 0, report, ha='left', va='bottom', fontsize=12)\n",
    "ax.axis('off')\n",
    "\n",
    "# Save the figure as an image\n",
    "plt.savefig('Presentation/images/classification_report_cnn.png')\n",
    "\n",
    "fig, ax = plt.subplots()\n",
    "sns.heatmap(confusionmatrix, cmap=\"Blues\", annot=True, cbar=True, ax=ax)\n",
    "fig.savefig(\"Presentation/images/confusion_matrix_CNN.png\")\n"
   ]
  },
  {
   "cell_type": "markdown",
   "metadata": {},
   "source": [
    "### Conclusions"
   ]
  },
  {
   "cell_type": "markdown",
   "metadata": {},
   "source": [
    "The neural net offers a mixed improvement over the manual feature extraction.  Both have roughly the same F1 scores, but the neural net is successfully able to classify images by more specific type.  The classification has more meaning as a result.  \n",
    "\n",
    "When using **manual feature extraction** with a **decision tree**, the overall **F1 score** was **87%**.  The two smaller classes, lymphocytes and monocytes had an F1 average of 48%.\n",
    "\n",
    "When using the **pretrained convolutional layer** with a **neural net**, the overall **F1 score** is **78%**.  The two smaller classes, lymphocytes and monocytes have an F1 average of 60%.\n",
    "\n",
    "#### **Classification Report**: Pretrained Convolution Layer + Neural Net  \n",
    "<img src=\"Presentation/images/classification_report_cnn.png\">  \n",
    "\n",
    "#### **Confusion Matrix**: Pretrained Convolution Layer + Neural Net   \n",
    "<img src=\"Presentation/images/confusion_matrix_CNN.png\" width = 600px>"
   ]
  },
  {
   "cell_type": "markdown",
   "metadata": {},
   "source": [
    "#### Next Steps"
   ]
  },
  {
   "cell_type": "markdown",
   "metadata": {},
   "source": [
    "There are additional pretrained convolution nets, such as Resnet50, which may offer improvements over the one used in this network.  For an equal comparison between the two classifiers, the decision tree and neural net, the decision tree classification should be used to classify images by types."
   ]
  }
 ],
 "metadata": {
  "kernelspec": {
   "display_name": "Python (learn-env)",
   "language": "python",
   "name": "learn-env"
  },
  "language_info": {
   "codemirror_mode": {
    "name": "ipython",
    "version": 3
   },
   "file_extension": ".py",
   "mimetype": "text/x-python",
   "name": "python",
   "nbconvert_exporter": "python",
   "pygments_lexer": "ipython3",
   "version": "3.9.16"
  }
 },
 "nbformat": 4,
 "nbformat_minor": 2
}
